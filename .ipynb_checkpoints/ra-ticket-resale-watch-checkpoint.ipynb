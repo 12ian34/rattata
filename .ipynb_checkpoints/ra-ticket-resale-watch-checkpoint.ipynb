{
 "cells": [
  {
   "cell_type": "code",
   "execution_count": 454,
   "metadata": {},
   "outputs": [],
   "source": [
    "# import necessary packages\n",
    "import lxml\n",
    "import requests as re\n",
    "from lxml import html\n",
    "from tabulate import tabulate"
   ]
  },
  {
   "cell_type": "code",
   "execution_count": 455,
   "metadata": {},
   "outputs": [
    {
     "name": "stdout",
     "output_type": "stream",
     "text": [
      "full Resident Advisor URL \n",
      "https://www.residentadvisor.net/events/1079626\n",
      "\n",
      "checking tickets for\n",
      "https://www.residentadvisor.net/events/1079626\n"
     ]
    }
   ],
   "source": [
    "# ask for full ra url\n",
    "raurl = input(\"full Resident Advisor URL \\n\")\n",
    "\n",
    "# confirm url\n",
    "print(\"\\nchecking tickets for\\n\" + raurl)"
   ]
  },
  {
   "cell_type": "code",
   "execution_count": 456,
   "metadata": {},
   "outputs": [
    {
     "name": "stdout",
     "output_type": "stream",
     "text": [
      "sending http request\n",
      "<Response [200]>\n"
     ]
    }
   ],
   "source": [
    "# send HTTP request and store response\n",
    "print(\"sending http request\")\n",
    "response = re.get(raurl)\n",
    "print(response)"
   ]
  },
  {
   "cell_type": "code",
   "execution_count": 457,
   "metadata": {},
   "outputs": [],
   "source": [
    "tree = lxml.html.fromstring(response.text)"
   ]
  },
  {
   "cell_type": "code",
   "execution_count": 458,
   "metadata": {},
   "outputs": [],
   "source": [
    "event_title = tree.xpath('//div/h1')[0].text"
   ]
  },
  {
   "cell_type": "code",
   "execution_count": 459,
   "metadata": {},
   "outputs": [
    {
     "name": "stdout",
     "output_type": "stream",
     "text": [
      "event title: \n",
      "E1: Theo Parrish presents Sound Signature 20\n"
     ]
    }
   ],
   "source": [
    "print(\"event title: \\n\" + event_title)"
   ]
  },
  {
   "cell_type": "code",
   "execution_count": 460,
   "metadata": {},
   "outputs": [],
   "source": [
    "event_day = tree.xpath('//main/ul/li/section/div/div/div/aside/ul/li/text()')[0]\n",
    "event_date = tree.xpath('//main/ul/li/section/div/div/div/aside/ul/li/a/text()')[0]\n",
    "event_time = tree.xpath('//main/ul/li/section/div/div/div/aside/ul/li/text()')[1]"
   ]
  },
  {
   "cell_type": "code",
   "execution_count": 461,
   "metadata": {},
   "outputs": [
    {
     "name": "stdout",
     "output_type": "stream",
     "text": [
      "date: \n",
      "Saturday\n",
      "28 Apr 2018\n",
      "22:00 - 06:00\n"
     ]
    }
   ],
   "source": [
    "print(\"date: \\n\" + event_day + \"\\n\" + event_date + \"\\n\" + event_time)"
   ]
  },
  {
   "cell_type": "code",
   "execution_count": 462,
   "metadata": {},
   "outputs": [],
   "source": [
    "event_location = tree.xpath('//*[@id=\"detail\"]/ul/li[2]/a[1]/text()')[0]"
   ]
  },
  {
   "cell_type": "code",
   "execution_count": 463,
   "metadata": {},
   "outputs": [
    {
     "name": "stdout",
     "output_type": "stream",
     "text": [
      "location:\n",
      "E1 London\n"
     ]
    }
   ],
   "source": [
    "print(\"location:\\n\" + event_location)"
   ]
  },
  {
   "cell_type": "code",
   "execution_count": 464,
   "metadata": {},
   "outputs": [],
   "source": [
    "ticket_classes = tree.xpath('//*[@id=\"tickets\"]/ul/li/@class')"
   ]
  },
  {
   "cell_type": "code",
   "execution_count": 466,
   "metadata": {},
   "outputs": [],
   "source": [
    "offsale_types = tree.xpath('//*[@id=\"tickets\"]/ul/li/p/text()')\n",
    "offsale_prices = tree.xpath('//*[@id=\"tickets\"]/ul/li/p/span/text()')"
   ]
  },
  {
   "cell_type": "code",
   "execution_count": 467,
   "metadata": {},
   "outputs": [
    {
     "name": "stdout",
     "output_type": "stream",
     "text": [
      "['Early bird', '1st release', '2nd release', '3rd release']\n"
     ]
    }
   ],
   "source": [
    "print(offsale_types)"
   ]
  },
  {
   "cell_type": "code",
   "execution_count": 468,
   "metadata": {},
   "outputs": [
    {
     "name": "stdout",
     "output_type": "stream",
     "text": [
      "['£12.50', '£17.50', '£20.00', '£22.50']\n"
     ]
    }
   ],
   "source": [
    "print(offsale_prices)"
   ]
  },
  {
   "cell_type": "code",
   "execution_count": 469,
   "metadata": {},
   "outputs": [],
   "source": [
    "onsale_types = tree.xpath('//*[@id=\"tickets\"]/ul/li/label/p/text()')\n",
    "onsale_prices = tree.xpath('//*[@id=\"tickets\"]/ul/li/label/p/span/text()')"
   ]
  },
  {
   "cell_type": "code",
   "execution_count": 470,
   "metadata": {},
   "outputs": [
    {
     "name": "stdout",
     "output_type": "stream",
     "text": [
      "['Final release', 'Group ticket (5 people, arrive together)', 'Entry before midnight']\n"
     ]
    }
   ],
   "source": [
    "print(onsale_types)"
   ]
  },
  {
   "cell_type": "code",
   "execution_count": 471,
   "metadata": {},
   "outputs": [
    {
     "name": "stdout",
     "output_type": "stream",
     "text": [
      "['£25.00 + £2.50', '£80.00 + £8.00', '£18.00 + £2.20']\n"
     ]
    }
   ],
   "source": [
    "print(onsale_prices)"
   ]
  },
  {
   "cell_type": "code",
   "execution_count": 472,
   "metadata": {},
   "outputs": [
    {
     "name": "stdout",
     "output_type": "stream",
     "text": [
      "the following tickets are on sale: \n",
      " \n",
      "\n",
      "ticket                                    price\n",
      "----------------------------------------  --------------\n",
      "Final release                             £25.00 + £2.50\n",
      "Group ticket (5 people, arrive together)  £80.00 + £8.00\n",
      "Entry before midnight                     £18.00 + £2.20\n",
      "\n",
      " \n",
      " go buy them quick https://www.residentadvisor.net/events/1079626\n"
     ]
    }
   ],
   "source": [
    "if len(onsale_types)==0:\n",
    "    print(\"nothing on sale:(\")\n",
    "else:\n",
    "    print(\"the following tickets are on sale: \\n \\n\")\n",
    "    headers = ['ticket', 'price']\n",
    "    table = zip(onsale_types, onsale_prices)\n",
    "    print(tabulate(table, headers=headers, floatfmt=\".4f\"))\n",
    "    print(\"\\n \\n go buy them quick \" + raurl)"
   ]
  },
  {
   "cell_type": "code",
   "execution_count": null,
   "metadata": {},
   "outputs": [],
   "source": []
  },
  {
   "cell_type": "code",
   "execution_count": null,
   "metadata": {},
   "outputs": [],
   "source": []
  },
  {
   "cell_type": "code",
   "execution_count": 473,
   "metadata": {},
   "outputs": [],
   "source": [
    "#for idx, val in enumerate(ticket_classes):\n",
    "#    print(idx, val)"
   ]
  },
  {
   "cell_type": "code",
   "execution_count": 474,
   "metadata": {},
   "outputs": [],
   "source": [
    "#for item in tree.xpath(\"//li\"):\n",
    "#    if \"onsale but\" in item.classes:\n",
    "#        print(\"on sale\")\n",
    "#    else:\n",
    "#        print(\"closed :(\")"
   ]
  }
 ],
 "metadata": {
  "kernelspec": {
   "display_name": "Python 3",
   "language": "python",
   "name": "python3"
  },
  "language_info": {
   "codemirror_mode": {
    "name": "ipython",
    "version": 3
   },
   "file_extension": ".py",
   "mimetype": "text/x-python",
   "name": "python",
   "nbconvert_exporter": "python",
   "pygments_lexer": "ipython3",
   "version": "3.6.5"
  }
 },
 "nbformat": 4,
 "nbformat_minor": 2
}
