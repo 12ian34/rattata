{
 "cells": [
  {
   "cell_type": "code",
   "execution_count": null,
   "metadata": {},
   "outputs": [],
   "source": [
    "import lxml\n",
    "import os\n",
    "import requests as re\n",
    "import time\n",
    "from lxml import html\n",
    "from tabulate import tabulate\n",
    "from datetime import datetime\n",
    "from twilio.rest import Client"
   ]
  },
  {
   "cell_type": "code",
   "execution_count": null,
   "metadata": {},
   "outputs": [],
   "source": [
    "account_sid = os.environ[\"TWILIO_SID\"]\n",
    "auth_token = os.environ[\"TWILIO_AUTH_TOKEN\"]\n",
    "twilio_number = os.environ[\"TWILIO_NUMBER\"]\n",
    "my_number = os.environ[\"MY_NUMBER\"]\n",
    "raurl = input(\"\\nfull Resident Advisor URL \\n\")"
   ]
  },
  {
   "cell_type": "code",
   "execution_count": null,
   "metadata": {
    "scrolled": false
   },
   "outputs": [],
   "source": [
    "twilio_text_count = 0\n",
    "\n",
    "while twilio_text_count < 3:\n",
    "    print(\"date:\")\n",
    "    print(datetime.now())\n",
    "    print(\"\\nchecking tickets for:\\n\" + raurl + \"\\n\")\n",
    "\n",
    "    print(\"sending http request:\")\n",
    "    response = re.get(raurl)\n",
    "    print(response)\n",
    "\n",
    "    tree = lxml.html.fromstring(response.text)\n",
    "    ticket_classes = tree.xpath('//*[@id=\"tickets\"]/ul/li/@class')\n",
    "    offsale_types = tree.xpath('//*[@id=\"tickets\"]/ul/li/p/text()')\n",
    "    offsale_prices = tree.xpath('//*[@id=\"tickets\"]/ul/li/p/span/text()')\n",
    "    onsale_types = tree.xpath('//*[@id=\"tickets\"]/ul/li/label/p/text()')\n",
    "    onsale_prices = tree.xpath('//*[@id=\"tickets\"]/ul/li/label/p/span/text()')\n",
    "    event_title = tree.xpath('//div/h1')[0].text\n",
    "    event_day = tree.xpath('//main/ul/li/section/div/div/div/aside/ul/li/text()')[0]\n",
    "    event_date = tree.xpath('//main/ul/li/section/div/div/div/aside/ul/li/a/text()')[0]\n",
    "    event_time = tree.xpath('//main/ul/li/section/div/div/div/aside/ul/li/text()')[1]\n",
    "    event_location = tree.xpath('//*[@id=\"detail\"]/ul/li[2]/a[1]/text()')[0]\n",
    "\n",
    "    print(\"\\nevent title: \\n\" + event_title)\n",
    "    print(\"\\ndate: \\n\" + event_day + \"\\n\" + event_date + \"\\n\" + event_time)\n",
    "    print(\"\\nlocation:\\n\" + event_location)\n",
    "    print(f\"\\nThere are {len(offsale_types)} ticket types off sale\")\n",
    "    print(f\"There are {len(onsale_types)} ticket types on sale\")\n",
    "\n",
    "    if len(offsale_types) > 0:\n",
    "        print(\"\\nthe following tickets are off sale: \\n\")\n",
    "        headers = ['ticket', 'price']\n",
    "        table = zip(offsale_types, offsale_prices)\n",
    "        print(tabulate(table, headers=headers, floatfmt=\".4f\"))\n",
    "    \n",
    "    if len(onsale_types) > 0:\n",
    "        print(\"\\n\\nthe following tickets are on sale: \\n\")\n",
    "        headers = ['ticket', 'price']\n",
    "        table = zip(onsale_types, onsale_prices)\n",
    "        print(tabulate(table, headers=headers, floatfmt=\".4f\") + \"\\n\")\n",
    "        \n",
    "        twilio_text_count += 1\n",
    "        \n",
    "        print(\"\\ntwilio text count:\")\n",
    "        print(twilio_text_count)\n",
    "        \n",
    "        print(\"\\ngo buy them quick\\n\" + raurl + \"\\n\")\n",
    "        \n",
    "        client = Client(account_sid, auth_token)\n",
    "        message = client.messages.create(\n",
    "            body = \"ticket available: \" + raurl,\n",
    "            from_= twilio_number,\n",
    "            to = my_number\n",
    "        )\n",
    "        \n",
    "        print(\"twilio message id:\")\n",
    "        print(message.sid)\n",
    "        print(\"\\n\")\n",
    "        \n",
    "    elif len(onsale_types) == 0:\n",
    "        print(\"twilio text count:\")\n",
    "        print(twilio_text_count)\n",
    "        print(\"\\nnothing on sale :( ... retrying in 5 min\\n\")\n",
    "        time.sleep(300)\n",
    "\n",
    "print(\"script paused at \" + str(datetime.now()) + \" due to twilio text count being reached! Please restart\")"
   ]
  }
 ],
 "metadata": {
  "kernelspec": {
   "display_name": "Python 3",
   "language": "python",
   "name": "python3"
  },
  "language_info": {
   "codemirror_mode": {
    "name": "ipython",
    "version": 3
   },
   "file_extension": ".py",
   "mimetype": "text/x-python",
   "name": "python",
   "nbconvert_exporter": "python",
   "pygments_lexer": "ipython3",
   "version": "3.8.1"
  }
 },
 "nbformat": 4,
 "nbformat_minor": 2
}
