{
 "cells": [
  {
   "cell_type": "code",
   "execution_count": 18,
   "metadata": {},
   "outputs": [],
   "source": [
    "# import necessary packages\n",
    "import lxml\n",
    "import requests as re\n",
    "from lxml import html\n",
    "from tabulate import tabulate"
   ]
  },
  {
   "cell_type": "code",
   "execution_count": 19,
   "metadata": {},
   "outputs": [
    {
     "name": "stdout",
     "output_type": "stream",
     "text": [
      "\n",
      "full Resident Advisor URL \n",
      "https://www.residentadvisor.net/events/1281033\n",
      "\n",
      "checking tickets for\n",
      "https://www.residentadvisor.net/events/1281033\n",
      "\n"
     ]
    }
   ],
   "source": [
    "# ask for full ra url\n",
    "raurl = input(\"\\nfull Resident Advisor URL \\n\")\n",
    "\n",
    "# confirm url\n",
    "print(\"\\nchecking tickets for\\n\" + raurl + \"\\n\")"
   ]
  },
  {
   "cell_type": "code",
   "execution_count": 40,
   "metadata": {},
   "outputs": [
    {
     "name": "stdout",
     "output_type": "stream",
     "text": [
      "sending http request\n",
      "<Response [200]>\n",
      "\n",
      "event title: \n",
      "Kings Cross Social & Friends Pres: The House Party Project\n",
      "\n",
      "date: \n",
      "Thursday\n",
      "25 Jul 2019\n",
      "21:00 - 05:00\n",
      "\n",
      "location:\n",
      "Egg London\n",
      "There are, 0 ticket types off sale\n",
      "There are, 2 ticket types on sale\n"
     ]
    }
   ],
   "source": [
    "# send HTTP request and store response\n",
    "print(\"sending http request\")\n",
    "response = re.get(raurl)\n",
    "print(response)\n",
    "\n",
    "# parse xml tree\n",
    "tree = lxml.html.fromstring(response.text)\n",
    "\n",
    "# extract ticket class list, not used yet\n",
    "ticket_classes = tree.xpath('//*[@id=\"tickets\"]/ul/li/@class')\n",
    "\n",
    "# extract and print off sale ticket detail lists \n",
    "offsale_types = tree.xpath('//*[@id=\"tickets\"]/ul/li/p/text()')\n",
    "offsale_prices = tree.xpath('//*[@id=\"tickets\"]/ul/li/p/span/text()')\n",
    "\n",
    "# extract and print on sale ticket detail lists \n",
    "onsale_types = tree.xpath('//*[@id=\"tickets\"]/ul/li/label/p/text()')\n",
    "onsale_prices = tree.xpath('//*[@id=\"tickets\"]/ul/li/label/p/span/text()')\n",
    "\n",
    "# extract and print event title\n",
    "event_title = tree.xpath('//div/h1')[0].text\n",
    "print(\"\\nevent title: \\n\" + event_title)\n",
    "\n",
    "# extract and print event date\n",
    "event_day = tree.xpath('//main/ul/li/section/div/div/div/aside/ul/li/text()')[0]\n",
    "event_date = tree.xpath('//main/ul/li/section/div/div/div/aside/ul/li/a/text()')[0]\n",
    "event_time = tree.xpath('//main/ul/li/section/div/div/div/aside/ul/li/text()')[1]\n",
    "print(\"\\ndate: \\n\" + event_day + \"\\n\" + event_date + \"\\n\" + event_time)\n",
    "\n",
    "# extract and print event location\n",
    "event_location = tree.xpath('//*[@id=\"detail\"]/ul/li[2]/a[1]/text()')[0]\n",
    "print(\"\\nlocation:\\n\" + event_location)\n",
    "\n",
    "print(f\"There are, {len(offsale_types)} ticket types off sale\")\n",
    "print(f\"There are, {len(onsale_types)} ticket types on sale\")"
   ]
  },
  {
   "cell_type": "code",
   "execution_count": 41,
   "metadata": {},
   "outputs": [
    {
     "name": "stdout",
     "output_type": "stream",
     "text": [
      "\n",
      "the following tickets are off sale: \n",
      "\n",
      "ticket    price\n",
      "--------  -------\n",
      "\n",
      "\n",
      "the following tickets are on sale: \n",
      "\n",
      "ticket                                    price\n",
      "----------------------------------------  --------------\n",
      "Advance Ticket (Entry+ 1/2 Pizza + Beer)  £10.00 + £1.30\n",
      "Free Entry Before 11pm                    £0.00\n",
      "\n",
      "go buy them quick\n",
      "https://www.residentadvisor.net/events/1281033\n",
      "\n"
     ]
    }
   ],
   "source": [
    "print(\"\\nthe following tickets are off sale: \\n\")\n",
    "headers = ['ticket', 'price']\n",
    "table = zip(offsale_types, offsale_prices)\n",
    "print(tabulate(table, headers=headers, floatfmt=\".4f\"))\n",
    "\n",
    "print(\"\\n\\nthe following tickets are on sale: \\n\")\n",
    "headers = ['ticket', 'price']\n",
    "table = zip(onsale_types, onsale_prices)\n",
    "print(tabulate(table, headers=headers, floatfmt=\".4f\"))\n",
    "print(\"\\ngo buy them quick\\n\" + raurl + \"\\n\")"
   ]
  },
  {
   "cell_type": "markdown",
   "metadata": {},
   "source": [
    "# old code"
   ]
  },
  {
   "cell_type": "code",
   "execution_count": 19,
   "metadata": {},
   "outputs": [],
   "source": [
    "#for idx, val in enumerate(ticket_classes):\n",
    "#    print(idx, val)"
   ]
  },
  {
   "cell_type": "code",
   "execution_count": 15,
   "metadata": {},
   "outputs": [],
   "source": [
    "#for item in tree.xpath(\"//li\"):\n",
    "#    if \"onsale but\" in item.classes:\n",
    "#        print(\"on sale\")\n",
    "#    else:\n",
    "#        print(\"closed :(\")"
   ]
  },
  {
   "cell_type": "code",
   "execution_count": null,
   "metadata": {},
   "outputs": [],
   "source": []
  }
 ],
 "metadata": {
  "kernelspec": {
   "display_name": "Python 3",
   "language": "python",
   "name": "python3"
  },
  "language_info": {
   "codemirror_mode": {
    "name": "ipython",
    "version": 3
   },
   "file_extension": ".py",
   "mimetype": "text/x-python",
   "name": "python",
   "nbconvert_exporter": "python",
   "pygments_lexer": "ipython3",
   "version": "3.7.3"
  }
 },
 "nbformat": 4,
 "nbformat_minor": 2
}
