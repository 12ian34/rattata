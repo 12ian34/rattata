{
 "cells": [
  {
   "cell_type": "code",
   "execution_count": 56,
   "metadata": {},
   "outputs": [],
   "source": [
    "import lxml\n",
    "import os\n",
    "import requests as re\n",
    "import time\n",
    "from lxml import html\n",
    "from tabulate import tabulate\n",
    "from datetime import datetime\n",
    "from twilio.rest import Client"
   ]
  },
  {
   "cell_type": "code",
   "execution_count": 57,
   "metadata": {},
   "outputs": [
    {
     "ename": "KeyError",
     "evalue": "'TWILIO_SID'",
     "output_type": "error",
     "traceback": [
      "\u001b[0;31m---------------------------------------------------------------------------\u001b[0m",
      "\u001b[0;31mKeyError\u001b[0m                                  Traceback (most recent call last)",
      "\u001b[0;32m<ipython-input-57-c3d414acdd77>\u001b[0m in \u001b[0;36m<module>\u001b[0;34m\u001b[0m\n\u001b[0;32m----> 1\u001b[0;31m \u001b[0maccount_sid\u001b[0m \u001b[0;34m=\u001b[0m \u001b[0mos\u001b[0m\u001b[0;34m.\u001b[0m\u001b[0menviron\u001b[0m\u001b[0;34m[\u001b[0m\u001b[0;34m\"TWILIO_SID\"\u001b[0m\u001b[0;34m]\u001b[0m\u001b[0;34m\u001b[0m\u001b[0;34m\u001b[0m\u001b[0m\n\u001b[0m\u001b[1;32m      2\u001b[0m \u001b[0mauth_token\u001b[0m \u001b[0;34m=\u001b[0m \u001b[0mos\u001b[0m\u001b[0;34m.\u001b[0m\u001b[0menviron\u001b[0m\u001b[0;34m[\u001b[0m\u001b[0;34m\"TWILIO_AUTH_TOKEN\"\u001b[0m\u001b[0;34m]\u001b[0m\u001b[0;34m\u001b[0m\u001b[0;34m\u001b[0m\u001b[0m\n\u001b[1;32m      3\u001b[0m \u001b[0mtwilio_number\u001b[0m \u001b[0;34m=\u001b[0m \u001b[0mos\u001b[0m\u001b[0;34m.\u001b[0m\u001b[0menviron\u001b[0m\u001b[0;34m[\u001b[0m\u001b[0;34m\"TWILIO_NUMBER\"\u001b[0m\u001b[0;34m]\u001b[0m\u001b[0;34m\u001b[0m\u001b[0;34m\u001b[0m\u001b[0m\n\u001b[1;32m      4\u001b[0m \u001b[0mmy_number\u001b[0m \u001b[0;34m=\u001b[0m \u001b[0mos\u001b[0m\u001b[0;34m.\u001b[0m\u001b[0menviron\u001b[0m\u001b[0;34m[\u001b[0m\u001b[0;34m\"MY_NUMBER\"\u001b[0m\u001b[0;34m]\u001b[0m\u001b[0;34m\u001b[0m\u001b[0;34m\u001b[0m\u001b[0m\n",
      "\u001b[0;32m/usr/lib/python3.8/os.py\u001b[0m in \u001b[0;36m__getitem__\u001b[0;34m(self, key)\u001b[0m\n\u001b[1;32m    671\u001b[0m         \u001b[0;32mexcept\u001b[0m \u001b[0mKeyError\u001b[0m\u001b[0;34m:\u001b[0m\u001b[0;34m\u001b[0m\u001b[0;34m\u001b[0m\u001b[0m\n\u001b[1;32m    672\u001b[0m             \u001b[0;31m# raise KeyError with the original key value\u001b[0m\u001b[0;34m\u001b[0m\u001b[0;34m\u001b[0m\u001b[0;34m\u001b[0m\u001b[0m\n\u001b[0;32m--> 673\u001b[0;31m             \u001b[0;32mraise\u001b[0m \u001b[0mKeyError\u001b[0m\u001b[0;34m(\u001b[0m\u001b[0mkey\u001b[0m\u001b[0;34m)\u001b[0m \u001b[0;32mfrom\u001b[0m \u001b[0;32mNone\u001b[0m\u001b[0;34m\u001b[0m\u001b[0;34m\u001b[0m\u001b[0m\n\u001b[0m\u001b[1;32m    674\u001b[0m         \u001b[0;32mreturn\u001b[0m \u001b[0mself\u001b[0m\u001b[0;34m.\u001b[0m\u001b[0mdecodevalue\u001b[0m\u001b[0;34m(\u001b[0m\u001b[0mvalue\u001b[0m\u001b[0;34m)\u001b[0m\u001b[0;34m\u001b[0m\u001b[0;34m\u001b[0m\u001b[0m\n\u001b[1;32m    675\u001b[0m \u001b[0;34m\u001b[0m\u001b[0m\n",
      "\u001b[0;31mKeyError\u001b[0m: 'TWILIO_SID'"
     ]
    }
   ],
   "source": [
    "account_sid = os.environ[\"TWILIO_SID\"]\n",
    "auth_token = os.environ[\"TWILIO_AUTH_TOKEN\"]\n",
    "twilio_number = os.environ[\"TWILIO_NUMBER\"]\n",
    "my_number = os.environ[\"MY_NUMBER\"]"
   ]
  },
  {
   "cell_type": "code",
   "execution_count": 20,
   "metadata": {},
   "outputs": [
    {
     "name": "stdout",
     "output_type": "stream",
     "text": [
      "\n",
      "full Resident Advisor URL \n",
      "https://www.residentadvisor.net/events/1352341\n"
     ]
    }
   ],
   "source": [
    "raurl = input(\"\\nfull Resident Advisor URL \\n\")"
   ]
  },
  {
   "cell_type": "code",
   "execution_count": 59,
   "metadata": {},
   "outputs": [],
   "source": [
    "def check_tickets():\n",
    "    print(\"date:\")\n",
    "    print(datetime.now())\n",
    "    print(\"\\nchecking tickets for:\\n\" + raurl + \"\\n\")\n",
    "\n",
    "    print(\"sending http request:\")\n",
    "    response = re.get(raurl)\n",
    "    print(response)\n",
    "\n",
    "    tree = lxml.html.fromstring(response.text)\n",
    "    ticket_classes = tree.xpath('//*[@id=\"tickets\"]/ul/li/@class')\n",
    "    offsale_types = tree.xpath('//*[@id=\"tickets\"]/ul/li/p/text()')\n",
    "    offsale_prices = tree.xpath('//*[@id=\"tickets\"]/ul/li/p/span/text()')\n",
    "    onsale_types = tree.xpath('//*[@id=\"tickets\"]/ul/li/label/p/text()')\n",
    "    onsale_prices = tree.xpath('//*[@id=\"tickets\"]/ul/li/label/p/span/text()')\n",
    "    event_title = tree.xpath('//div/h1')[0].text\n",
    "    event_day = tree.xpath('//main/ul/li/section/div/div/div/aside/ul/li/text()')[0]\n",
    "    event_date = tree.xpath('//main/ul/li/section/div/div/div/aside/ul/li/a/text()')[0]\n",
    "    event_time = tree.xpath('//main/ul/li/section/div/div/div/aside/ul/li/text()')[1]\n",
    "    event_location = tree.xpath('//*[@id=\"detail\"]/ul/li[2]/a[1]/text()')[0]\n",
    "\n",
    "    print(\"\\nevent title: \\n\" + event_title)\n",
    "    print(\"\\ndate: \\n\" + event_day + \"\\n\" + event_date + \"\\n\" + event_time)\n",
    "    print(\"\\nlocation:\\n\" + event_location)\n",
    "    print(f\"There are {len(offsale_types)} ticket types off sale\")\n",
    "    print(f\"There are {len(onsale_types)} ticket types on sale\")\n",
    "    \n",
    "    print(\"\\nthe following tickets are off sale: \\n\")\n",
    "    headers = ['ticket', 'price']\n",
    "    table = zip(offsale_types, offsale_prices)\n",
    "    print(tabulate(table, headers=headers, floatfmt=\".4f\"))\n",
    "\n",
    "    print(\"\\n\\nthe following tickets are on sale: \\n\")\n",
    "    headers = ['ticket', 'price']\n",
    "    table = zip(onsale_types, onsale_prices)\n",
    "    print(tabulate(table, headers=headers, floatfmt=\".4f\") + \"\\n\")\n",
    "    \n",
    "    if len(onsale_types) > 0:\n",
    "        print(\"\\ngo buy them quick\\n\" + raurl + \"\\n\")\n",
    "        client = Client(account_sid, auth_token)\n",
    "        message = client.messages.create(\n",
    "            body = \"ticket available: \" + raurl,\n",
    "            from_= twilio_number,\n",
    "            to = my_number\n",
    "        )\n",
    "        print(message.sid)\n",
    "    elif len(onsale_types) == 0:\n",
    "        print(\"nothing on sale. retrying in 2 min\")"
   ]
  },
  {
   "cell_type": "code",
   "execution_count": null,
   "metadata": {},
   "outputs": [],
   "source": [
    "while True:\n",
    "  count_tickets()\n",
    "  time.sleep(300)"
   ]
  }
 ],
 "metadata": {
  "kernelspec": {
   "display_name": "Python 3",
   "language": "python",
   "name": "python3"
  },
  "language_info": {
   "codemirror_mode": {
    "name": "ipython",
    "version": 3
   },
   "file_extension": ".py",
   "mimetype": "text/x-python",
   "name": "python",
   "nbconvert_exporter": "python",
   "pygments_lexer": "ipython3",
   "version": "3.8.1"
  }
 },
 "nbformat": 4,
 "nbformat_minor": 2
}
