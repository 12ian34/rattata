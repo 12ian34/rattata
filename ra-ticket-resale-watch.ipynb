{
 "cells": [
  {
   "cell_type": "code",
   "execution_count": 164,
   "metadata": {},
   "outputs": [],
   "source": [
    "import lxml\n",
    "from lxml import etree\n",
    "from lxml import html\n",
    "import requests as re"
   ]
  },
  {
   "cell_type": "code",
   "execution_count": 165,
   "metadata": {},
   "outputs": [],
   "source": [
    "raurl = 'https://www.residentadvisor.net/events/1079805'"
   ]
  },
  {
   "cell_type": "code",
   "execution_count": 166,
   "metadata": {},
   "outputs": [],
   "source": [
    "response = re.get(raurl)"
   ]
  },
  {
   "cell_type": "code",
   "execution_count": 167,
   "metadata": {},
   "outputs": [],
   "source": [
    "tree = lxml.html.fromstring(response.text)"
   ]
  },
  {
   "cell_type": "code",
   "execution_count": 183,
   "metadata": {},
   "outputs": [],
   "source": [
    "data = []\n",
    "while true:\n",
    "    \n",
    "\n",
    "ticket_classes = tree.xpath('//*[@id=\"tickets\"]/ul/li/@class')[0]"
   ]
  },
  {
   "cell_type": "code",
   "execution_count": null,
   "metadata": {},
   "outputs": [],
   "source": []
  },
  {
   "cell_type": "code",
   "execution_count": null,
   "metadata": {},
   "outputs": [],
   "source": []
  },
  {
   "cell_type": "code",
   "execution_count": 181,
   "metadata": {},
   "outputs": [
    {
     "name": "stdout",
     "output_type": "stream",
     "text": [
      "onsale but\n"
     ]
    }
   ],
   "source": [
    "print(ticket_classes)"
   ]
  },
  {
   "cell_type": "code",
   "execution_count": null,
   "metadata": {},
   "outputs": [],
   "source": [
    "for classes in ticket_classes:\n",
    "    if "
   ]
  },
  {
   "cell_type": "code",
   "execution_count": null,
   "metadata": {},
   "outputs": [],
   "source": []
  },
  {
   "cell_type": "code",
   "execution_count": 116,
   "metadata": {},
   "outputs": [
    {
     "name": "stdout",
     "output_type": "stream",
     "text": [
      "closed :(\n",
      "closed :(\n",
      "closed :(\n",
      "closed :(\n",
      "closed :(\n",
      "closed :(\n",
      "closed :(\n",
      "closed :(\n",
      "closed :(\n",
      "closed :(\n",
      "closed :(\n",
      "closed :(\n",
      "closed :(\n",
      "closed :(\n",
      "closed :(\n",
      "closed :(\n",
      "closed :(\n",
      "closed :(\n",
      "closed :(\n",
      "closed :(\n",
      "closed :(\n",
      "closed :(\n",
      "closed :(\n",
      "closed :(\n",
      "closed :(\n",
      "closed :(\n",
      "closed :(\n",
      "closed :(\n",
      "closed :(\n",
      "closed :(\n",
      "closed :(\n",
      "closed :(\n",
      "closed :(\n",
      "closed :(\n",
      "closed :(\n",
      "closed :(\n",
      "closed :(\n",
      "closed :(\n",
      "closed :(\n",
      "closed :(\n",
      "closed :(\n",
      "closed :(\n",
      "closed :(\n",
      "closed :(\n",
      "closed :(\n",
      "closed :(\n",
      "closed :(\n",
      "closed :(\n",
      "closed :(\n",
      "closed :(\n",
      "closed :(\n",
      "closed :(\n",
      "closed :(\n",
      "closed :(\n",
      "closed :(\n",
      "closed :(\n",
      "closed :(\n",
      "closed :(\n",
      "closed :(\n",
      "closed :(\n",
      "closed :(\n",
      "closed :(\n",
      "closed :(\n",
      "closed :(\n",
      "closed :(\n",
      "closed :(\n",
      "closed :(\n",
      "closed :(\n",
      "closed :(\n",
      "closed :(\n",
      "closed :(\n",
      "closed :(\n",
      "closed :(\n",
      "closed :(\n",
      "closed :(\n",
      "closed :(\n",
      "closed :(\n",
      "closed :(\n",
      "closed :(\n",
      "closed :(\n",
      "closed :(\n",
      "closed :(\n",
      "closed :(\n",
      "closed :(\n",
      "closed :(\n",
      "closed :(\n",
      "closed :(\n",
      "closed :(\n",
      "closed :(\n",
      "closed :(\n",
      "closed :(\n",
      "closed :(\n",
      "closed :(\n",
      "closed :(\n",
      "closed :(\n",
      "closed :(\n",
      "closed :(\n",
      "closed :(\n",
      "closed :(\n",
      "closed :(\n",
      "closed :(\n",
      "closed :(\n",
      "closed :(\n",
      "closed :(\n",
      "closed :(\n",
      "closed :(\n",
      "closed :(\n",
      "closed :(\n",
      "closed :(\n"
     ]
    }
   ],
   "source": [
    "for item in tree.xpath(\"//li\"):\n",
    "    if \"onsale but\" in item.classes:\n",
    "        print(\"on sale\")\n",
    "    else:\n",
    "        print(\"closed :(\")"
   ]
  },
  {
   "cell_type": "code",
   "execution_count": 42,
   "metadata": {},
   "outputs": [
    {
     "data": {
      "text/plain": [
       "<bound method HtmlMixin.text_content of <Element p at 0x7f6da3db64a8>>"
      ]
     },
     "execution_count": 42,
     "metadata": {},
     "output_type": "execute_result"
    }
   ],
   "source": [
    "tree.text_content"
   ]
  },
  {
   "cell_type": "code",
   "execution_count": null,
   "metadata": {},
   "outputs": [],
   "source": [
    "print(pl).text()\n"
   ]
  },
  {
   "cell_type": "code",
   "execution_count": null,
   "metadata": {},
   "outputs": [],
   "source": []
  },
  {
   "cell_type": "code",
   "execution_count": null,
   "metadata": {},
   "outputs": [],
   "source": [
    "\n",
    "mypage = \"\"\"\n",
    "<div class=\"otherclass exampleclass\">some</div>\n",
    "<div class=\"otherclass\">things</div>\n",
    "<div class=\"exampleclass\">are</div>\n",
    "<div class=\"otherclass\">better</div>\n",
    "<div>left</div>\"\"\"\n",
    "\n",
    "tree = html.fromstring(mypage)\n",
    "\n",
    "for item in tree.xpath(\"//div\"):\n",
    "    if \"exampleclass\" in item.classes:\n",
    "        print(\"foo\")\n",
    "        \n",
    "        "
   ]
  },
  {
   "cell_type": "code",
   "execution_count": null,
   "metadata": {},
   "outputs": [],
   "source": []
  },
  {
   "cell_type": "code",
   "execution_count": null,
   "metadata": {},
   "outputs": [],
   "source": []
  },
  {
   "cell_type": "code",
   "execution_count": null,
   "metadata": {},
   "outputs": [],
   "source": []
  },
  {
   "cell_type": "code",
   "execution_count": null,
   "metadata": {},
   "outputs": [],
   "source": []
  }
 ],
 "metadata": {
  "kernelspec": {
   "display_name": "Python 3",
   "language": "python",
   "name": "python3"
  },
  "language_info": {
   "codemirror_mode": {
    "name": "ipython",
    "version": 3
   },
   "file_extension": ".py",
   "mimetype": "text/x-python",
   "name": "python",
   "nbconvert_exporter": "python",
   "pygments_lexer": "ipython3",
   "version": "3.6.5"
  }
 },
 "nbformat": 4,
 "nbformat_minor": 2
}
