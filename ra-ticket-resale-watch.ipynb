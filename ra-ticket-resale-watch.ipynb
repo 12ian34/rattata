{
 "cells": [
  {
   "cell_type": "code",
   "execution_count": 32,
   "metadata": {},
   "outputs": [],
   "source": [
    "# import necessary packages\n",
    "import lxml\n",
    "import requests as re\n",
    "from lxml import html\n",
    "from tabulate import tabulate"
   ]
  },
  {
   "cell_type": "code",
   "execution_count": 33,
   "metadata": {},
   "outputs": [
    {
     "name": "stdout",
     "output_type": "stream",
     "text": [
      "\n",
      "full Resident Advisor URL \n",
      "https://www.residentadvisor.net/events/986929\n",
      "\n",
      "checking tickets for\n",
      "https://www.residentadvisor.net/events/986929\n",
      "\n"
     ]
    }
   ],
   "source": [
    "# ask for full ra url\n",
    "raurl = input(\"\\nfull Resident Advisor URL \\n\")\n",
    "\n",
    "# confirm url\n",
    "print(\"\\nchecking tickets for\\n\" + raurl + \"\\n\")"
   ]
  },
  {
   "cell_type": "code",
   "execution_count": 34,
   "metadata": {},
   "outputs": [
    {
     "name": "stdout",
     "output_type": "stream",
     "text": [
      "sending http request\n",
      "\n",
      "<Response [200]>\n"
     ]
    }
   ],
   "source": [
    "# send HTTP request and store response\n",
    "print(\"sending http request\\n\")\n",
    "response = re.get(raurl)\n",
    "print(response)"
   ]
  },
  {
   "cell_type": "code",
   "execution_count": 35,
   "metadata": {},
   "outputs": [],
   "source": [
    "# parse xml tree\n",
    "tree = lxml.html.fromstring(response.text)"
   ]
  },
  {
   "cell_type": "code",
   "execution_count": 36,
   "metadata": {},
   "outputs": [
    {
     "name": "stdout",
     "output_type": "stream",
     "text": [
      "\n",
      "event title: \n",
      "Awakenings Festival 2018 - Day 1\n"
     ]
    }
   ],
   "source": [
    "# extract and print event title\n",
    "event_title = tree.xpath('//div/h1')[0].text\n",
    "print(\"\\nevent title: \\n\" + event_title)"
   ]
  },
  {
   "cell_type": "code",
   "execution_count": 37,
   "metadata": {},
   "outputs": [
    {
     "name": "stdout",
     "output_type": "stream",
     "text": [
      "\n",
      "date: \n",
      "Saturday\n",
      "30 Jun 2018\n",
      "12:00 - 23:00\n"
     ]
    }
   ],
   "source": [
    "# extract and print event date\n",
    "event_day = tree.xpath('//main/ul/li/section/div/div/div/aside/ul/li/text()')[0]\n",
    "event_date = tree.xpath('//main/ul/li/section/div/div/div/aside/ul/li/a/text()')[0]\n",
    "event_time = tree.xpath('//main/ul/li/section/div/div/div/aside/ul/li/text()')[1]\n",
    "print(\"\\ndate: \\n\" + event_day + \"\\n\" + event_date + \"\\n\" + event_time)"
   ]
  },
  {
   "cell_type": "code",
   "execution_count": 26,
   "metadata": {},
   "outputs": [
    {
     "name": "stdout",
     "output_type": "stream",
     "text": [
      "\n",
      "location:\n",
      "Egg London\n"
     ]
    }
   ],
   "source": [
    "# extract and print event location\n",
    "event_location = tree.xpath('//*[@id=\"detail\"]/ul/li[2]/a[1]/text()')[0]\n",
    "print(\"\\nlocation:\\n\" + event_location)"
   ]
  },
  {
   "cell_type": "code",
   "execution_count": 27,
   "metadata": {},
   "outputs": [],
   "source": [
    "# extract ticket class list, not used yet\n",
    "ticket_classes = tree.xpath('//*[@id=\"tickets\"]/ul/li/@class')"
   ]
  },
  {
   "cell_type": "code",
   "execution_count": 28,
   "metadata": {},
   "outputs": [],
   "source": [
    "# extract and print off sale ticket detail lists \n",
    "offsale_types = tree.xpath('//*[@id=\"tickets\"]/ul/li/p/text()')\n",
    "offsale_prices = tree.xpath('//*[@id=\"tickets\"]/ul/li/p/span/text()')"
   ]
  },
  {
   "cell_type": "code",
   "execution_count": 29,
   "metadata": {},
   "outputs": [
    {
     "name": "stdout",
     "output_type": "stream",
     "text": [
      "\n",
      "the following tickets are off sale: \n",
      "\n",
      "ticket       price\n",
      "-----------  -------\n",
      "Early bird   £10.00\n",
      "1st release  £15.00\n",
      "2nd release  £18.00\n",
      "3rd release  £22.00\n",
      "\n",
      " ... one day ... \n",
      "\n"
     ]
    }
   ],
   "source": [
    "print(\"\\nthe following tickets are off sale: \\n\")\n",
    "headers = ['ticket', 'price']\n",
    "table = zip(offsale_types, offsale_prices)\n",
    "print(tabulate(table, headers=headers, floatfmt=\".4f\"))\n",
    "print(\"\\n ... one day ... \\n\")"
   ]
  },
  {
   "cell_type": "code",
   "execution_count": 30,
   "metadata": {},
   "outputs": [],
   "source": [
    "# extract and print on sale ticket detail lists \n",
    "onsale_types = tree.xpath('//*[@id=\"tickets\"]/ul/li/label/p/text()')\n",
    "onsale_prices = tree.xpath('//*[@id=\"tickets\"]/ul/li/label/p/span/text()')"
   ]
  },
  {
   "cell_type": "code",
   "execution_count": 31,
   "metadata": {},
   "outputs": [
    {
     "name": "stdout",
     "output_type": "stream",
     "text": [
      "the following tickets are on sale: \n",
      "\n",
      "ticket       price\n",
      "-----------  --------------\n",
      "4th release  £30.00 + £3.00\n",
      "\n",
      "go buy them quick\n",
      "https://www.residentadvisor.net/events/1076244\n",
      "\n"
     ]
    }
   ],
   "source": [
    "# inform whether tickets are on sale, if so, print table and share link\n",
    "\n",
    "if len(onsale_types)==0:\n",
    "    print(\"\\nnothing on sale:(\\n\")\n",
    "else:\n",
    "    print(\"the following tickets are on sale: \\n\")\n",
    "    headers = ['ticket', 'price']\n",
    "    table = zip(onsale_types, onsale_prices)\n",
    "    print(tabulate(table, headers=headers, floatfmt=\".4f\"))\n",
    "    print(\"\\ngo buy them quick\\n\" + raurl + \"\\n\")"
   ]
  },
  {
   "cell_type": "markdown",
   "metadata": {},
   "source": [
    "# old code"
   ]
  },
  {
   "cell_type": "code",
   "execution_count": 19,
   "metadata": {},
   "outputs": [],
   "source": [
    "#for idx, val in enumerate(ticket_classes):\n",
    "#    print(idx, val)"
   ]
  },
  {
   "cell_type": "code",
   "execution_count": 15,
   "metadata": {},
   "outputs": [],
   "source": [
    "#for item in tree.xpath(\"//li\"):\n",
    "#    if \"onsale but\" in item.classes:\n",
    "#        print(\"on sale\")\n",
    "#    else:\n",
    "#        print(\"closed :(\")"
   ]
  },
  {
   "cell_type": "code",
   "execution_count": null,
   "metadata": {},
   "outputs": [],
   "source": []
  }
 ],
 "metadata": {
  "kernelspec": {
   "display_name": "Python 3",
   "language": "python",
   "name": "python3"
  },
  "language_info": {
   "codemirror_mode": {
    "name": "ipython",
    "version": 3
   },
   "file_extension": ".py",
   "mimetype": "text/x-python",
   "name": "python",
   "nbconvert_exporter": "python",
   "pygments_lexer": "ipython3",
   "version": "3.6.5"
  }
 },
 "nbformat": 4,
 "nbformat_minor": 2
}
