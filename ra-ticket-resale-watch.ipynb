{
 "cells": [
  {
   "cell_type": "code",
   "execution_count": 489,
   "metadata": {},
   "outputs": [],
   "source": [
    "# import necessary packages\n",
    "import lxml\n",
    "import requests as re\n",
    "from lxml import html\n",
    "from tabulate import tabulate"
   ]
  },
  {
   "cell_type": "code",
   "execution_count": 490,
   "metadata": {},
   "outputs": [
    {
     "name": "stdout",
     "output_type": "stream",
     "text": [
      "full Resident Advisor URL \n",
      "https://www.residentadvisor.net/events/1083319\n",
      "\n",
      "checking tickets for\n",
      "https://www.residentadvisor.net/events/1083319\n"
     ]
    }
   ],
   "source": [
    "# ask for full ra url\n",
    "raurl = input(\"full Resident Advisor URL \\n\")\n",
    "\n",
    "# confirm url\n",
    "print(\"\\nchecking tickets for\\n\" + raurl)"
   ]
  },
  {
   "cell_type": "code",
   "execution_count": 491,
   "metadata": {},
   "outputs": [
    {
     "name": "stdout",
     "output_type": "stream",
     "text": [
      "sending http request\n",
      "<Response [200]>\n"
     ]
    }
   ],
   "source": [
    "# send HTTP request and store response\n",
    "print(\"sending http request\")\n",
    "response = re.get(raurl)\n",
    "print(response)"
   ]
  },
  {
   "cell_type": "code",
   "execution_count": 492,
   "metadata": {},
   "outputs": [],
   "source": [
    "# parse xml tree\n",
    "tree = lxml.html.fromstring(response.text)"
   ]
  },
  {
   "cell_type": "code",
   "execution_count": 493,
   "metadata": {},
   "outputs": [
    {
     "name": "stdout",
     "output_type": "stream",
     "text": [
      "event title: \n",
      "Superstition: Recondite (Live), Alex.Do, Roland Appel\n"
     ]
    }
   ],
   "source": [
    "# extract and print event title\n",
    "event_title = tree.xpath('//div/h1')[0].text\n",
    "print(\"event title: \\n\" + event_title)"
   ]
  },
  {
   "cell_type": "code",
   "execution_count": 494,
   "metadata": {},
   "outputs": [
    {
     "name": "stdout",
     "output_type": "stream",
     "text": [
      "date: \n",
      "Saturday\n",
      "28 Apr 2018\n",
      "22:00 - 06:00\n"
     ]
    }
   ],
   "source": [
    "# extract and print event date\n",
    "event_day = tree.xpath('//main/ul/li/section/div/div/div/aside/ul/li/text()')[0]\n",
    "event_date = tree.xpath('//main/ul/li/section/div/div/div/aside/ul/li/a/text()')[0]\n",
    "event_time = tree.xpath('//main/ul/li/section/div/div/div/aside/ul/li/text()')[1]\n",
    "print(\"date: \\n\" + event_day + \"\\n\" + event_date + \"\\n\" + event_time)"
   ]
  },
  {
   "cell_type": "code",
   "execution_count": 495,
   "metadata": {},
   "outputs": [
    {
     "name": "stdout",
     "output_type": "stream",
     "text": [
      "location:\n",
      "Village Underground\n"
     ]
    }
   ],
   "source": [
    "# extract and print event location\n",
    "event_location = tree.xpath('//*[@id=\"detail\"]/ul/li[2]/a[1]/text()')[0]\n",
    "print(\"location:\\n\" + event_location)"
   ]
  },
  {
   "cell_type": "code",
   "execution_count": 496,
   "metadata": {},
   "outputs": [],
   "source": [
    "# extract ticket class list, not used yet\n",
    "ticket_classes = tree.xpath('//*[@id=\"tickets\"]/ul/li/@class')"
   ]
  },
  {
   "cell_type": "code",
   "execution_count": 497,
   "metadata": {},
   "outputs": [],
   "source": [
    "# extract and print off sale ticket detail lists \n",
    "offsale_types = tree.xpath('//*[@id=\"tickets\"]/ul/li/p/text()')\n",
    "offsale_prices = tree.xpath('//*[@id=\"tickets\"]/ul/li/p/span/text()')"
   ]
  },
  {
   "cell_type": "code",
   "execution_count": 498,
   "metadata": {},
   "outputs": [
    {
     "name": "stdout",
     "output_type": "stream",
     "text": [
      "['1st release', '2nd release']\n"
     ]
    }
   ],
   "source": [
    "print(offsale_types)"
   ]
  },
  {
   "cell_type": "code",
   "execution_count": 499,
   "metadata": {},
   "outputs": [
    {
     "name": "stdout",
     "output_type": "stream",
     "text": [
      "['£10.00', '£15.00']\n"
     ]
    }
   ],
   "source": [
    "print(offsale_prices)"
   ]
  },
  {
   "cell_type": "code",
   "execution_count": 500,
   "metadata": {},
   "outputs": [],
   "source": [
    "# extract and print on sale ticket detail lists \n",
    "onsale_types = tree.xpath('//*[@id=\"tickets\"]/ul/li/label/p/text()')\n",
    "onsale_prices = tree.xpath('//*[@id=\"tickets\"]/ul/li/label/p/span/text()')"
   ]
  },
  {
   "cell_type": "code",
   "execution_count": 501,
   "metadata": {},
   "outputs": [
    {
     "name": "stdout",
     "output_type": "stream",
     "text": [
      "['3rd release']\n"
     ]
    }
   ],
   "source": [
    "print(onsale_types)"
   ]
  },
  {
   "cell_type": "code",
   "execution_count": 502,
   "metadata": {},
   "outputs": [
    {
     "name": "stdout",
     "output_type": "stream",
     "text": [
      "['£20.00 + £2.40']\n"
     ]
    }
   ],
   "source": [
    "print(onsale_prices)"
   ]
  },
  {
   "cell_type": "code",
   "execution_count": 503,
   "metadata": {},
   "outputs": [
    {
     "name": "stdout",
     "output_type": "stream",
     "text": [
      "the following tickets are on sale: \n",
      " \n",
      "\n",
      "ticket       price\n",
      "-----------  --------------\n",
      "3rd release  £20.00 + £2.40\n",
      "\n",
      " \n",
      " go buy them quick https://www.residentadvisor.net/events/1083319\n"
     ]
    }
   ],
   "source": [
    "# inform whether tickets are on sale, if so, print table and share link\n",
    "\n",
    "if len(onsale_types)==0:\n",
    "    print(\"nothing on sale:(\")\n",
    "else:\n",
    "    print(\"the following tickets are on sale: \\n \\n\")\n",
    "    headers = ['ticket', 'price']\n",
    "    table = zip(onsale_types, onsale_prices)\n",
    "    print(tabulate(table, headers=headers, floatfmt=\".4f\"))\n",
    "    print(\"\\n \\n go buy them quick \" + raurl)"
   ]
  },
  {
   "cell_type": "markdown",
   "metadata": {},
   "source": [
    "# old code"
   ]
  },
  {
   "cell_type": "code",
   "execution_count": 504,
   "metadata": {},
   "outputs": [],
   "source": [
    "#for idx, val in enumerate(ticket_classes):\n",
    "#    print(idx, val)"
   ]
  },
  {
   "cell_type": "code",
   "execution_count": 505,
   "metadata": {},
   "outputs": [],
   "source": [
    "#for item in tree.xpath(\"//li\"):\n",
    "#    if \"onsale but\" in item.classes:\n",
    "#        print(\"on sale\")\n",
    "#    else:\n",
    "#        print(\"closed :(\")"
   ]
  }
 ],
 "metadata": {
  "kernelspec": {
   "display_name": "Python 3",
   "language": "python",
   "name": "python3"
  },
  "language_info": {
   "codemirror_mode": {
    "name": "ipython",
    "version": 3
   },
   "file_extension": ".py",
   "mimetype": "text/x-python",
   "name": "python",
   "nbconvert_exporter": "python",
   "pygments_lexer": "ipython3",
   "version": "3.6.5"
  }
 },
 "nbformat": 4,
 "nbformat_minor": 2
}
