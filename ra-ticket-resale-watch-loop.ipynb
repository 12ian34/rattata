{
 "cells": [
  {
   "cell_type": "code",
   "execution_count": null,
   "metadata": {},
   "outputs": [],
   "source": [
    "# import necessary packages\n",
    "import lxml\n",
    "import requests as re\n",
    "from lxml import html\n",
    "from tabulate import tabulate"
   ]
  },
  {
   "cell_type": "code",
   "execution_count": 17,
   "metadata": {},
   "outputs": [
    {
     "name": "stdout",
     "output_type": "stream",
     "text": [
      "\n",
      "full Resident Advisor URL \n",
      "https://www.residentadvisor.net/events/1074506\n",
      "\n",
      "checking tickets for\n",
      "https://www.residentadvisor.net/events/1074506\n",
      "\n"
     ]
    }
   ],
   "source": [
    "# ask for full ra url\n",
    "raurl = input(\"\\nfull Resident Advisor URL \\n\")\n",
    "\n",
    "# confirm url\n",
    "print(\"\\nchecking tickets for\\n\" + raurl + \"\\n\")"
   ]
  },
  {
   "cell_type": "code",
   "execution_count": 233,
   "metadata": {},
   "outputs": [],
   "source": [
    "raurl = 'https://www.residentadvisor.net/events/1091862'\n",
    "#noresale"
   ]
  },
  {
   "cell_type": "code",
   "execution_count": 235,
   "metadata": {},
   "outputs": [],
   "source": [
    "raurl = 'https://www.residentadvisor.net/events/1074506'\n",
    "#resale"
   ]
  },
  {
   "cell_type": "code",
   "execution_count": 236,
   "metadata": {},
   "outputs": [
    {
     "name": "stdout",
     "output_type": "stream",
     "text": [
      "\n",
      "tick1\n",
      "['\\xa0']\n",
      "1\n",
      "\n",
      "tick2\n",
      "[]\n",
      "0\n",
      "\n",
      "tick3\n",
      "<Element p at 0x7f31682098b8>\n",
      "0\n",
      "\n",
      "tick5\n",
      " \n",
      "1\n",
      "\n",
      "tick6\n",
      "\n",
      "0\n"
     ]
    }
   ],
   "source": [
    "response = re.get(raurl)\n",
    "tree = lxml.html.fromstring(response.text)\n",
    "\n",
    "tick1 = tree.xpath('//*[@id=\"promoter-resale-info\"]/text()')\n",
    "print(\"\\ntick1\")\n",
    "print(tick1)\n",
    "print(len(tick1))\n",
    "\n",
    "tick2 = tree.xpath('//*[@id=\"promoter-resale-info\"]/p/text()')\n",
    "print(\"\\ntick2\")\n",
    "print(tick2)\n",
    "print(len(tick2))\n",
    "\n",
    "tick3 = tree.xpath('//*[@id=\"promoter-resale-info\"]')[0]\n",
    "print(\"\\ntick3\")\n",
    "print(tick3)\n",
    "print(len(tick3))\n",
    "\n",
    "tick5 = tree.xpath('//*[@id=\"promoter-resale-info\"]')[0].text\n",
    "print(\"\\ntick5\")\n",
    "print(tick5)\n",
    "print(len(tick5))\n",
    "\n",
    "tick6 = tree.xpath('//*[@id=\"promoter-resale-info\"]')[0].text.strip()\n",
    "print(\"\\ntick6\")\n",
    "print(tick6)\n",
    "print(len(tick6))"
   ]
  },
  {
   "cell_type": "code",
   "execution_count": null,
   "metadata": {},
   "outputs": [],
   "source": []
  },
  {
   "cell_type": "code",
   "execution_count": null,
   "metadata": {},
   "outputs": [],
   "source": []
  },
  {
   "cell_type": "code",
   "execution_count": 125,
   "metadata": {},
   "outputs": [],
   "source": [
    "def ticketcheck(raurl):\n",
    "    \n",
    "    # send HTTP request and store response\n",
    "    print(\"sending http request\\n\")\n",
    "    response = re.get(raurl)\n",
    "    print(response)\n",
    "    \n",
    "    # parse xml tree\n",
    "    tree = lxml.html.fromstring(response.text)\n",
    "    \n",
    "    # extract and print event title\n",
    "    event_title = tree.xpath('//div/h1')[0].text\n",
    "    print(\"\\nevent title: \\n\" + event_title)\n",
    "\n",
    "    # extract and print event date\n",
    "    event_day = tree.xpath('//main/ul/li/section/div/div/div/aside/ul/li/text()')[0]\n",
    "    event_date = tree.xpath('//main/ul/li/section/div/div/div/aside/ul/li/a/text()')[0]\n",
    "    event_time = tree.xpath('//main/ul/li/section/div/div/div/aside/ul/li/text()')[1]\n",
    "    print(\"\\ndate: \\n\" + event_day + \"\\n\" + event_date + \"\\n\" + event_time)\n",
    "\n",
    "    # extract and print event location\n",
    "    event_location = tree.xpath('//*[@id=\"detail\"]/ul/li[2]/a[1]/text()')[0]\n",
    "    print(\"\\nlocation:\\n\" + event_location)\n",
    "\n",
    "    # extract ticket class list, not used yet\n",
    "    ticket_classes = tree.xpath('//*[@id=\"tickets\"]/ul/li/@class')\n",
    "\n",
    "    # extract and print off sale ticket detail lists \n",
    "    offsale_types = tree.xpath('//*[@id=\"tickets\"]/ul/li/p/text()')\n",
    "    offsale_prices = tree.xpath('//*[@id=\"tickets\"]/ul/li/p/span/text()')\n",
    "\n",
    "    print(\"\\nthe following tickets are off sale: \\n\")\n",
    "    headers = ['ticket', 'price']\n",
    "    table = zip(offsale_types, offsale_prices)\n",
    "    print(tabulate(table, headers=headers, floatfmt=\".4f\"))\n",
    "    print(\"\\n ... one day ... \\n\")\n",
    "    \n",
    "    if tree.xpath('//*[@id=\"promoter-resale-info\"]')[0].text:\n",
    "        resale = tree.xpath('//main/ul/li/section/div/div/div/ul/li/p')[0].text\n",
    "        print(\"!!!\")\n",
    "        print(resale)\n",
    "        print(\"!!!\")\n",
    "    else:\n",
    "        resale = \"\"\n",
    "        print(\"no resale active for this event\")\n",
    "        \n",
    "    # extract and print on sale ticket detail lists \n",
    "    onsale_types = tree.xpath('//*[@id=\"tickets\"]/ul/li/label/p/text()')\n",
    "    onsale_prices = tree.xpath('//*[@id=\"tickets\"]/ul/li/label/p/span/text()')\n",
    "\n",
    "    # inform whether tickets are on sale, if so, print table and share link\n",
    "\n",
    "    if len(onsale_types)==0:\n",
    "        print(\"\\nnothing on sale:(\\n\")\n",
    "    else:\n",
    "        print(\"the following tickets are on sale: \\n\")\n",
    "        headers = ['ticket', 'price']\n",
    "        table = zip(onsale_types, onsale_prices)\n",
    "        print(tabulate(table, headers=headers, floatfmt=\".4f\"))\n",
    "        print(\"\\ngo buy them quick\\n\" + raurl + \"\\n\")"
   ]
  },
  {
   "cell_type": "code",
   "execution_count": 126,
   "metadata": {},
   "outputs": [
    {
     "name": "stdout",
     "output_type": "stream",
     "text": [
      "sending http request\n",
      "\n",
      "<Response [200]>\n",
      "\n",
      "event title: \n",
      "Moodroom x 10 Year Renate Berlin / DJ Dustin / DJ Masda / Lauer / Sebastian Voigt\n",
      "\n",
      "date: \n",
      "Saturday\n",
      "5 May 2018\n",
      "23:00 - 06:00\n",
      "\n",
      "location:\n",
      "Corsica Studios\n",
      "\n",
      "the following tickets are off sale: \n",
      "\n",
      "ticket              price\n",
      "------------------  -------\n",
      "Final release       £13.00\n",
      "Entry before 12 AM  £8.00\n",
      "\n",
      " ... one day ... \n",
      "\n",
      "!!!\n",
      " \n",
      "!!!\n",
      "the following tickets are on sale: \n",
      "\n",
      "ticket             price\n",
      "-----------------  --------------\n",
      "Advance ticket     £10.00 + £1.30\n",
      "Entry before 12AM  £5.00 + £1.00\n",
      "\n",
      "go buy them quick\n",
      "https://www.residentadvisor.net/events/1090271\n",
      "\n"
     ]
    }
   ],
   "source": [
    "ticketcheck(raurl)"
   ]
  },
  {
   "cell_type": "code",
   "execution_count": null,
   "metadata": {},
   "outputs": [],
   "source": []
  },
  {
   "cell_type": "code",
   "execution_count": null,
   "metadata": {},
   "outputs": [],
   "source": []
  },
  {
   "cell_type": "code",
   "execution_count": null,
   "metadata": {},
   "outputs": [],
   "source": []
  },
  {
   "cell_type": "code",
   "execution_count": null,
   "metadata": {},
   "outputs": [],
   "source": []
  }
 ],
 "metadata": {
  "kernelspec": {
   "display_name": "Python 3",
   "language": "python",
   "name": "python3"
  },
  "language_info": {
   "codemirror_mode": {
    "name": "ipython",
    "version": 3
   },
   "file_extension": ".py",
   "mimetype": "text/x-python",
   "name": "python",
   "nbconvert_exporter": "python",
   "pygments_lexer": "ipython3",
   "version": "3.6.5"
  }
 },
 "nbformat": 4,
 "nbformat_minor": 2
}
